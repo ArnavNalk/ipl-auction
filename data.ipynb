{
 "cells": [
  {
   "cell_type": "code",
   "execution_count": 164,
   "metadata": {},
   "outputs": [],
   "source": [
    "import pandas as pd\n",
    "import matplotlib.pyplot as plt\n",
    "import seaborn as sns\n",
    "\n",
    "%matplotlib inline"
   ]
  },
  {
   "cell_type": "code",
   "execution_count": 150,
   "metadata": {},
   "outputs": [],
   "source": [
    "squad_data = pd.read_csv('IPLSquadData.csv',index_col=0)\n",
    "tables_data = pd.read_csv('IPLTablesData.csv',index_col=0)"
   ]
  },
  {
   "cell_type": "code",
   "execution_count": 148,
   "metadata": {},
   "outputs": [
    {
     "name": "stdout",
     "output_type": "stream",
     "text": [
      "<class 'pandas.core.frame.DataFrame'>\n",
      "Index: 952 entries, 0 to 951\n",
      "Data columns (total 8 columns):\n",
      " #   Column    Non-Null Count  Dtype  \n",
      "---  ------    --------------  -----  \n",
      " 0   Player    952 non-null    object \n",
      " 1   Role      952 non-null    object \n",
      " 2   Price     952 non-null    float64\n",
      " 3   Team      952 non-null    object \n",
      " 4   Year      952 non-null    int64  \n",
      " 5   Origin    952 non-null    object \n",
      " 6   Retained  952 non-null    object \n",
      " 7   C/U/A     952 non-null    object \n",
      "dtypes: float64(1), int64(1), object(6)\n",
      "memory usage: 66.9+ KB\n"
     ]
    }
   ],
   "source": [
    "squad_data.info()"
   ]
  },
  {
   "cell_type": "code",
   "execution_count": 149,
   "metadata": {},
   "outputs": [
    {
     "data": {
      "text/html": [
       "<div>\n",
       "<style scoped>\n",
       "    .dataframe tbody tr th:only-of-type {\n",
       "        vertical-align: middle;\n",
       "    }\n",
       "\n",
       "    .dataframe tbody tr th {\n",
       "        vertical-align: top;\n",
       "    }\n",
       "\n",
       "    .dataframe thead th {\n",
       "        text-align: right;\n",
       "    }\n",
       "</style>\n",
       "<table border=\"1\" class=\"dataframe\">\n",
       "  <thead>\n",
       "    <tr style=\"text-align: right;\">\n",
       "      <th></th>\n",
       "      <th>Player</th>\n",
       "      <th>Role</th>\n",
       "      <th>Price</th>\n",
       "      <th>Team</th>\n",
       "      <th>Year</th>\n",
       "      <th>Origin</th>\n",
       "      <th>Retained</th>\n",
       "      <th>C/U/A</th>\n",
       "    </tr>\n",
       "  </thead>\n",
       "  <tbody>\n",
       "    <tr>\n",
       "      <th>0</th>\n",
       "      <td>Ravindra Jadeja</td>\n",
       "      <td>All-Rounder</td>\n",
       "      <td>16.00</td>\n",
       "      <td>CSK</td>\n",
       "      <td>2022</td>\n",
       "      <td>Indian</td>\n",
       "      <td>Yes</td>\n",
       "      <td>Capped</td>\n",
       "    </tr>\n",
       "    <tr>\n",
       "      <th>1</th>\n",
       "      <td>Deepak Chahar</td>\n",
       "      <td>Bowler</td>\n",
       "      <td>14.00</td>\n",
       "      <td>CSK</td>\n",
       "      <td>2022</td>\n",
       "      <td>Indian</td>\n",
       "      <td>No</td>\n",
       "      <td>Capped</td>\n",
       "    </tr>\n",
       "    <tr>\n",
       "      <th>2</th>\n",
       "      <td>MS Dhoni</td>\n",
       "      <td>Wicket-Keeper</td>\n",
       "      <td>12.00</td>\n",
       "      <td>CSK</td>\n",
       "      <td>2022</td>\n",
       "      <td>Indian</td>\n",
       "      <td>Yes</td>\n",
       "      <td>Capped</td>\n",
       "    </tr>\n",
       "    <tr>\n",
       "      <th>3</th>\n",
       "      <td>Moeen Ali</td>\n",
       "      <td>All-Rounder</td>\n",
       "      <td>8.00</td>\n",
       "      <td>CSK</td>\n",
       "      <td>2022</td>\n",
       "      <td>Overseas</td>\n",
       "      <td>Yes</td>\n",
       "      <td>Capped</td>\n",
       "    </tr>\n",
       "    <tr>\n",
       "      <th>4</th>\n",
       "      <td>Ambati Rayudu</td>\n",
       "      <td>Wicket-Keeper</td>\n",
       "      <td>6.75</td>\n",
       "      <td>CSK</td>\n",
       "      <td>2022</td>\n",
       "      <td>Indian</td>\n",
       "      <td>No</td>\n",
       "      <td>Capped</td>\n",
       "    </tr>\n",
       "  </tbody>\n",
       "</table>\n",
       "</div>"
      ],
      "text/plain": [
       "            Player           Role  Price Team  Year    Origin Retained   C/U/A\n",
       "0  Ravindra Jadeja    All-Rounder  16.00  CSK  2022    Indian      Yes  Capped\n",
       "1    Deepak Chahar         Bowler  14.00  CSK  2022    Indian       No  Capped\n",
       "2         MS Dhoni  Wicket-Keeper  12.00  CSK  2022    Indian      Yes  Capped\n",
       "3        Moeen Ali    All-Rounder   8.00  CSK  2022  Overseas      Yes  Capped\n",
       "4    Ambati Rayudu  Wicket-Keeper   6.75  CSK  2022    Indian       No  Capped"
      ]
     },
     "execution_count": 149,
     "metadata": {},
     "output_type": "execute_result"
    }
   ],
   "source": [
    "squad_data.head()"
   ]
  },
  {
   "cell_type": "code",
   "execution_count": 151,
   "metadata": {},
   "outputs": [
    {
     "data": {
      "text/plain": [
       "Player      400\n",
       "Role          6\n",
       "Price        99\n",
       "Team         10\n",
       "Year          4\n",
       "Origin        2\n",
       "Retained      2\n",
       "C/U/A         3\n",
       "dtype: int64"
      ]
     },
     "execution_count": 151,
     "metadata": {},
     "output_type": "execute_result"
    }
   ],
   "source": [
    "squad_data.nunique()"
   ]
  },
  {
   "cell_type": "code",
   "execution_count": 152,
   "metadata": {},
   "outputs": [
    {
     "data": {
      "text/plain": [
       "array(['All-Rounder', 'Bowler', 'Wicket-Keeper', 'Batsman',\n",
       "       'Wicket-keeper', 'Batter'], dtype=object)"
      ]
     },
     "execution_count": 152,
     "metadata": {},
     "output_type": "execute_result"
    }
   ],
   "source": [
    "squad_data['Role'].unique()"
   ]
  },
  {
   "cell_type": "code",
   "execution_count": 155,
   "metadata": {},
   "outputs": [
    {
     "data": {
      "text/plain": [
       "array(['All-Rounder', 'Bowler', 'Wicket-Keeper', 'Batsman'], dtype=object)"
      ]
     },
     "execution_count": 155,
     "metadata": {},
     "output_type": "execute_result"
    }
   ],
   "source": [
    "squad_data['Role'] = squad_data['Role'].str.strip().str.title().str.replace('Batter', 'Batsman')\n",
    "squad_data['Role'].unique()"
   ]
  },
  {
   "cell_type": "code",
   "execution_count": 157,
   "metadata": {},
   "outputs": [
    {
     "name": "stdout",
     "output_type": "stream",
     "text": [
      "<class 'pandas.core.frame.DataFrame'>\n",
      "Index: 40 entries, 0 to 39\n",
      "Data columns (total 14 columns):\n",
      " #   Column    Non-Null Count  Dtype  \n",
      "---  ------    --------------  -----  \n",
      " 0   Position  40 non-null     int64  \n",
      " 1   Team      40 non-null     object \n",
      " 2   P         40 non-null     int64  \n",
      " 3   W         40 non-null     int64  \n",
      " 4   L         40 non-null     int64  \n",
      " 5   T         40 non-null     int64  \n",
      " 6   NR        40 non-null     int64  \n",
      " 7   PTS       40 non-null     int64  \n",
      " 8   NRR       40 non-null     float64\n",
      " 9   Year      40 non-null     int64  \n",
      " 10  Q1        8 non-null      object \n",
      " 11  E         8 non-null      object \n",
      " 12  Q2        8 non-null      object \n",
      " 13  F         8 non-null      object \n",
      "dtypes: float64(1), int64(8), object(5)\n",
      "memory usage: 4.7+ KB\n"
     ]
    }
   ],
   "source": [
    "tables_data.info()"
   ]
  },
  {
   "cell_type": "code",
   "execution_count": 158,
   "metadata": {},
   "outputs": [
    {
     "data": {
      "text/html": [
       "<div>\n",
       "<style scoped>\n",
       "    .dataframe tbody tr th:only-of-type {\n",
       "        vertical-align: middle;\n",
       "    }\n",
       "\n",
       "    .dataframe tbody tr th {\n",
       "        vertical-align: top;\n",
       "    }\n",
       "\n",
       "    .dataframe thead th {\n",
       "        text-align: right;\n",
       "    }\n",
       "</style>\n",
       "<table border=\"1\" class=\"dataframe\">\n",
       "  <thead>\n",
       "    <tr style=\"text-align: right;\">\n",
       "      <th></th>\n",
       "      <th>Position</th>\n",
       "      <th>Team</th>\n",
       "      <th>P</th>\n",
       "      <th>W</th>\n",
       "      <th>L</th>\n",
       "      <th>T</th>\n",
       "      <th>NR</th>\n",
       "      <th>PTS</th>\n",
       "      <th>NRR</th>\n",
       "      <th>Year</th>\n",
       "      <th>Q1</th>\n",
       "      <th>E</th>\n",
       "      <th>Q2</th>\n",
       "      <th>F</th>\n",
       "    </tr>\n",
       "  </thead>\n",
       "  <tbody>\n",
       "    <tr>\n",
       "      <th>0</th>\n",
       "      <td>1</td>\n",
       "      <td>GT</td>\n",
       "      <td>14</td>\n",
       "      <td>10</td>\n",
       "      <td>4</td>\n",
       "      <td>0</td>\n",
       "      <td>0</td>\n",
       "      <td>20</td>\n",
       "      <td>0.316</td>\n",
       "      <td>2022</td>\n",
       "      <td>W</td>\n",
       "      <td>NaN</td>\n",
       "      <td>NaN</td>\n",
       "      <td>W</td>\n",
       "    </tr>\n",
       "    <tr>\n",
       "      <th>1</th>\n",
       "      <td>2</td>\n",
       "      <td>RR</td>\n",
       "      <td>14</td>\n",
       "      <td>9</td>\n",
       "      <td>5</td>\n",
       "      <td>0</td>\n",
       "      <td>0</td>\n",
       "      <td>18</td>\n",
       "      <td>0.298</td>\n",
       "      <td>2022</td>\n",
       "      <td>L</td>\n",
       "      <td>NaN</td>\n",
       "      <td>W</td>\n",
       "      <td>L</td>\n",
       "    </tr>\n",
       "    <tr>\n",
       "      <th>2</th>\n",
       "      <td>3</td>\n",
       "      <td>LSG</td>\n",
       "      <td>14</td>\n",
       "      <td>9</td>\n",
       "      <td>5</td>\n",
       "      <td>0</td>\n",
       "      <td>0</td>\n",
       "      <td>18</td>\n",
       "      <td>0.251</td>\n",
       "      <td>2022</td>\n",
       "      <td>NaN</td>\n",
       "      <td>L</td>\n",
       "      <td>NaN</td>\n",
       "      <td>NaN</td>\n",
       "    </tr>\n",
       "    <tr>\n",
       "      <th>3</th>\n",
       "      <td>4</td>\n",
       "      <td>RCB</td>\n",
       "      <td>14</td>\n",
       "      <td>8</td>\n",
       "      <td>6</td>\n",
       "      <td>0</td>\n",
       "      <td>0</td>\n",
       "      <td>16</td>\n",
       "      <td>-0.253</td>\n",
       "      <td>2022</td>\n",
       "      <td>NaN</td>\n",
       "      <td>W</td>\n",
       "      <td>L</td>\n",
       "      <td>NaN</td>\n",
       "    </tr>\n",
       "    <tr>\n",
       "      <th>4</th>\n",
       "      <td>5</td>\n",
       "      <td>DC</td>\n",
       "      <td>14</td>\n",
       "      <td>7</td>\n",
       "      <td>7</td>\n",
       "      <td>0</td>\n",
       "      <td>0</td>\n",
       "      <td>14</td>\n",
       "      <td>0.204</td>\n",
       "      <td>2022</td>\n",
       "      <td>NaN</td>\n",
       "      <td>NaN</td>\n",
       "      <td>NaN</td>\n",
       "      <td>NaN</td>\n",
       "    </tr>\n",
       "  </tbody>\n",
       "</table>\n",
       "</div>"
      ],
      "text/plain": [
       "   Position Team   P   W  L  T  NR  PTS    NRR  Year   Q1    E   Q2    F\n",
       "0         1   GT  14  10  4  0   0   20  0.316  2022    W  NaN  NaN    W\n",
       "1         2   RR  14   9  5  0   0   18  0.298  2022    L  NaN    W    L\n",
       "2         3  LSG  14   9  5  0   0   18  0.251  2022  NaN    L  NaN  NaN\n",
       "3         4  RCB  14   8  6  0   0   16 -0.253  2022  NaN    W    L  NaN\n",
       "4         5   DC  14   7  7  0   0   14  0.204  2022  NaN  NaN  NaN  NaN"
      ]
     },
     "execution_count": 158,
     "metadata": {},
     "output_type": "execute_result"
    }
   ],
   "source": [
    "tables_data.head()"
   ]
  },
  {
   "cell_type": "code",
   "execution_count": 159,
   "metadata": {},
   "outputs": [
    {
     "data": {
      "text/plain": [
       "Position    10\n",
       "Team        10\n",
       "P            1\n",
       "W            7\n",
       "L            8\n",
       "T            1\n",
       "NR           3\n",
       "PTS         11\n",
       "NRR         40\n",
       "Year         4\n",
       "Q1           2\n",
       "E            2\n",
       "Q2           2\n",
       "F            2\n",
       "dtype: int64"
      ]
     },
     "execution_count": 159,
     "metadata": {},
     "output_type": "execute_result"
    }
   ],
   "source": [
    "tables_data.nunique()"
   ]
  },
  {
   "cell_type": "code",
   "execution_count": 160,
   "metadata": {},
   "outputs": [
    {
     "data": {
      "text/html": [
       "<div>\n",
       "<style scoped>\n",
       "    .dataframe tbody tr th:only-of-type {\n",
       "        vertical-align: middle;\n",
       "    }\n",
       "\n",
       "    .dataframe tbody tr th {\n",
       "        vertical-align: top;\n",
       "    }\n",
       "\n",
       "    .dataframe thead th {\n",
       "        text-align: right;\n",
       "    }\n",
       "</style>\n",
       "<table border=\"1\" class=\"dataframe\">\n",
       "  <thead>\n",
       "    <tr style=\"text-align: right;\">\n",
       "      <th></th>\n",
       "      <th>Year</th>\n",
       "      <th>Team</th>\n",
       "      <th>Price</th>\n",
       "    </tr>\n",
       "  </thead>\n",
       "  <tbody>\n",
       "    <tr>\n",
       "      <th>0</th>\n",
       "      <td>2022</td>\n",
       "      <td>CSK</td>\n",
       "      <td>87.05</td>\n",
       "    </tr>\n",
       "    <tr>\n",
       "      <th>1</th>\n",
       "      <td>2022</td>\n",
       "      <td>DC</td>\n",
       "      <td>86.40</td>\n",
       "    </tr>\n",
       "    <tr>\n",
       "      <th>2</th>\n",
       "      <td>2022</td>\n",
       "      <td>GT</td>\n",
       "      <td>89.85</td>\n",
       "    </tr>\n",
       "    <tr>\n",
       "      <th>3</th>\n",
       "      <td>2022</td>\n",
       "      <td>KKR</td>\n",
       "      <td>81.55</td>\n",
       "    </tr>\n",
       "    <tr>\n",
       "      <th>4</th>\n",
       "      <td>2022</td>\n",
       "      <td>LSG</td>\n",
       "      <td>89.20</td>\n",
       "    </tr>\n",
       "  </tbody>\n",
       "</table>\n",
       "</div>"
      ],
      "text/plain": [
       "   Year Team  Price\n",
       "0  2022  CSK  87.05\n",
       "1  2022   DC  86.40\n",
       "2  2022   GT  89.85\n",
       "3  2022  KKR  81.55\n",
       "4  2022  LSG  89.20"
      ]
     },
     "execution_count": 160,
     "metadata": {},
     "output_type": "execute_result"
    }
   ],
   "source": [
    "team_spend_by_year = squad_data.groupby(['Year', 'Team'])['Price'].sum().reset_index()\n",
    "team_spend_by_year.head()"
   ]
  },
  {
   "cell_type": "code",
   "execution_count": 161,
   "metadata": {},
   "outputs": [
    {
     "data": {
      "text/html": [
       "<div>\n",
       "<style scoped>\n",
       "    .dataframe tbody tr th:only-of-type {\n",
       "        vertical-align: middle;\n",
       "    }\n",
       "\n",
       "    .dataframe tbody tr th {\n",
       "        vertical-align: top;\n",
       "    }\n",
       "\n",
       "    .dataframe thead th {\n",
       "        text-align: right;\n",
       "    }\n",
       "</style>\n",
       "<table border=\"1\" class=\"dataframe\">\n",
       "  <thead>\n",
       "    <tr style=\"text-align: right;\">\n",
       "      <th></th>\n",
       "      <th>Year</th>\n",
       "      <th>Team</th>\n",
       "      <th>Price</th>\n",
       "      <th>Position</th>\n",
       "    </tr>\n",
       "  </thead>\n",
       "  <tbody>\n",
       "    <tr>\n",
       "      <th>0</th>\n",
       "      <td>2022</td>\n",
       "      <td>CSK</td>\n",
       "      <td>87.05</td>\n",
       "      <td>9</td>\n",
       "    </tr>\n",
       "    <tr>\n",
       "      <th>1</th>\n",
       "      <td>2022</td>\n",
       "      <td>DC</td>\n",
       "      <td>86.40</td>\n",
       "      <td>5</td>\n",
       "    </tr>\n",
       "    <tr>\n",
       "      <th>2</th>\n",
       "      <td>2022</td>\n",
       "      <td>GT</td>\n",
       "      <td>89.85</td>\n",
       "      <td>1</td>\n",
       "    </tr>\n",
       "    <tr>\n",
       "      <th>3</th>\n",
       "      <td>2022</td>\n",
       "      <td>KKR</td>\n",
       "      <td>81.55</td>\n",
       "      <td>7</td>\n",
       "    </tr>\n",
       "    <tr>\n",
       "      <th>4</th>\n",
       "      <td>2022</td>\n",
       "      <td>LSG</td>\n",
       "      <td>89.20</td>\n",
       "      <td>3</td>\n",
       "    </tr>\n",
       "  </tbody>\n",
       "</table>\n",
       "</div>"
      ],
      "text/plain": [
       "   Year Team  Price  Position\n",
       "0  2022  CSK  87.05         9\n",
       "1  2022   DC  86.40         5\n",
       "2  2022   GT  89.85         1\n",
       "3  2022  KKR  81.55         7\n",
       "4  2022  LSG  89.20         3"
      ]
     },
     "execution_count": 161,
     "metadata": {},
     "output_type": "execute_result"
    }
   ],
   "source": [
    "spend_v_rank_df = pd.merge(team_spend_by_year,tables_data[['Team','Year','Position']],on=['Year','Team'],how='inner')\n",
    "spend_v_rank_df.head()"
   ]
  },
  {
   "cell_type": "code",
   "execution_count": 176,
   "metadata": {},
   "outputs": [
    {
     "data": {
      "text/html": [
       "<div>\n",
       "<style scoped>\n",
       "    .dataframe tbody tr th:only-of-type {\n",
       "        vertical-align: middle;\n",
       "    }\n",
       "\n",
       "    .dataframe tbody tr th {\n",
       "        vertical-align: top;\n",
       "    }\n",
       "\n",
       "    .dataframe thead th {\n",
       "        text-align: right;\n",
       "    }\n",
       "</style>\n",
       "<table border=\"1\" class=\"dataframe\">\n",
       "  <thead>\n",
       "    <tr style=\"text-align: right;\">\n",
       "      <th></th>\n",
       "      <th>Year</th>\n",
       "      <th>mean</th>\n",
       "      <th>std</th>\n",
       "      <th>min</th>\n",
       "      <th>max</th>\n",
       "      <th>range</th>\n",
       "      <th>coefficient_of_variation</th>\n",
       "    </tr>\n",
       "  </thead>\n",
       "  <tbody>\n",
       "    <tr>\n",
       "      <th>0</th>\n",
       "      <td>2022</td>\n",
       "      <td>87.59</td>\n",
       "      <td>2.762326</td>\n",
       "      <td>81.55</td>\n",
       "      <td>89.90</td>\n",
       "      <td>8.35</td>\n",
       "      <td>0.031537</td>\n",
       "    </tr>\n",
       "    <tr>\n",
       "      <th>1</th>\n",
       "      <td>2023</td>\n",
       "      <td>91.05</td>\n",
       "      <td>3.451006</td>\n",
       "      <td>82.80</td>\n",
       "      <td>94.95</td>\n",
       "      <td>12.15</td>\n",
       "      <td>0.037902</td>\n",
       "    </tr>\n",
       "    <tr>\n",
       "      <th>2</th>\n",
       "      <td>2024</td>\n",
       "      <td>96.73</td>\n",
       "      <td>3.237557</td>\n",
       "      <td>90.10</td>\n",
       "      <td>99.80</td>\n",
       "      <td>9.70</td>\n",
       "      <td>0.033470</td>\n",
       "    </tr>\n",
       "    <tr>\n",
       "      <th>3</th>\n",
       "      <td>2025</td>\n",
       "      <td>118.24</td>\n",
       "      <td>3.756757</td>\n",
       "      <td>107.95</td>\n",
       "      <td>119.95</td>\n",
       "      <td>12.00</td>\n",
       "      <td>0.031772</td>\n",
       "    </tr>\n",
       "  </tbody>\n",
       "</table>\n",
       "</div>"
      ],
      "text/plain": [
       "   Year    mean       std     min     max  range  coefficient_of_variation\n",
       "0  2022   87.59  2.762326   81.55   89.90   8.35                  0.031537\n",
       "1  2023   91.05  3.451006   82.80   94.95  12.15                  0.037902\n",
       "2  2024   96.73  3.237557   90.10   99.80   9.70                  0.033470\n",
       "3  2025  118.24  3.756757  107.95  119.95  12.00                  0.031772"
      ]
     },
     "execution_count": 176,
     "metadata": {},
     "output_type": "execute_result"
    }
   ],
   "source": [
    "variation_per_year = spend_v_rank_df.groupby('Year')['Price'].agg(\n",
    "    mean='mean',\n",
    "    std='std',\n",
    "    min='min',\n",
    "    max='max'\n",
    ").reset_index()\n",
    "\n",
    "variation_per_year['range'] = variation_per_year['max'] - variation_per_year['min']\n",
    "variation_per_year['coefficient_of_variation'] = variation_per_year['std'] / variation_per_year['mean']\n",
    "\n",
    "variation_per_year"
   ]
  },
  {
   "cell_type": "code",
   "execution_count": 185,
   "metadata": {},
   "outputs": [
    {
     "data": {
      "text/plain": [
       "<seaborn.axisgrid.FacetGrid at 0x15117f150>"
      ]
     },
     "execution_count": 185,
     "metadata": {},
     "output_type": "execute_result"
    },
    {
     "data": {
      "text/plain": [
       "<Figure size 1200x800 with 0 Axes>"
      ]
     },
     "metadata": {},
     "output_type": "display_data"
    },
    {
     "data": {
      "image/png": "[encoded data removed]",
      "text/plain": [
       "<Figure size 1131x700 with 1 Axes>"
      ]
     },
     "metadata": {},
     "output_type": "display_data"
    }
   ],
   "source": [
    "plt.figure(figsize=(12, 8))\n",
    "sns.set_style(style='whitegrid')\n",
    "\n",
    "plot = sns.lmplot(\n",
    "    data=spend_v_rank_df,\n",
    "    x='Price',\n",
    "    y='Position',\n",
    "    hue='Year',\n",
    "    palette='viridis',\n",
    "    height=7,\n",
    "    aspect=1.5,\n",
    "    markers=['o', 's', 'D', 'X'][:len(spend_v_rank_df['Year'].unique())],\n",
    "    ci=None\n",
    ")\n",
    "plt.gca().invert_yaxis()\n",
    "\n",
    "plot.set(\n",
    "    title='Team Spend vs. Final Rank (2022-2025)',\n",
    "    xlabel='Total Spend (in Crores)',\n",
    "    ylabel='Final League Position (Rank)'\n",
    ")"
   ]
  },
  {
   "cell_type": "code",
   "execution_count": 188,
   "metadata": {},
   "outputs": [
    {
     "data": {
      "text/html": [
       "<div>\n",
       "<style scoped>\n",
       "    .dataframe tbody tr th:only-of-type {\n",
       "        vertical-align: middle;\n",
       "    }\n",
       "\n",
       "    .dataframe tbody tr th {\n",
       "        vertical-align: top;\n",
       "    }\n",
       "\n",
       "    .dataframe thead th {\n",
       "        text-align: right;\n",
       "    }\n",
       "</style>\n",
       "<table border=\"1\" class=\"dataframe\">\n",
       "  <thead>\n",
       "    <tr style=\"text-align: right;\">\n",
       "      <th></th>\n",
       "      <th>Year</th>\n",
       "      <th>Correlation (Price vs. Position)</th>\n",
       "    </tr>\n",
       "  </thead>\n",
       "  <tbody>\n",
       "    <tr>\n",
       "      <th>0</th>\n",
       "      <td>2022</td>\n",
       "      <td>-0.216553</td>\n",
       "    </tr>\n",
       "    <tr>\n",
       "      <th>1</th>\n",
       "      <td>2023</td>\n",
       "      <td>-0.457272</td>\n",
       "    </tr>\n",
       "    <tr>\n",
       "      <th>2</th>\n",
       "      <td>2024</td>\n",
       "      <td>-0.253911</td>\n",
       "    </tr>\n",
       "    <tr>\n",
       "      <th>3</th>\n",
       "      <td>2025</td>\n",
       "      <td>-0.244707</td>\n",
       "    </tr>\n",
       "  </tbody>\n",
       "</table>\n",
       "</div>"
      ],
      "text/plain": [
       "   Year  Correlation (Price vs. Position)\n",
       "0  2022                         -0.216553\n",
       "1  2023                         -0.457272\n",
       "2  2024                         -0.253911\n",
       "3  2025                         -0.244707"
      ]
     },
     "execution_count": 188,
     "metadata": {},
     "output_type": "execute_result"
    }
   ],
   "source": [
    "correlations = spend_v_rank_df.groupby('Year').apply(lambda df: df['Price'].corr(df['Position']),include_groups=False)\n",
    "correlation_df = correlations.reset_index()\n",
    "correlation_df.columns = ['Year', 'Correlation (Price vs. Position)']\n",
    "correlation_df"
   ]
  },
  {
   "cell_type": "code",
   "execution_count": null,
   "metadata": {},
   "outputs": [],
   "source": []
  }
 ],
 "metadata": {
  "kernelspec": {
   "display_name": "Python 3",
   "language": "python",
   "name": "python3"
  },
  "language_info": {
   "codemirror_mode": {
    "name": "ipython",
    "version": 3
   },
   "file_extension": ".py",
   "mimetype": "text/x-python",
   "name": "python",
   "nbconvert_exporter": "python",
   "pygments_lexer": "ipython3",
   "version": "3.11.9"
  }
 },
 "nbformat": 4,
 "nbformat_minor": 2
}
