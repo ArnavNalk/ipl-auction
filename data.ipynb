{
 "cells": [
  {
   "cell_type": "code",
   "execution_count": null,
   "metadata": {},
   "outputs": [],
   "source": [
    "import pandas as pd\n",
    "import requests\n",
    "from bs4 import BeautifulSoup\n",
    "import re\n",
    "from io import StringIO\n",
    "import matplotlib.pyplot as plt\n",
    "import seaborn as sns"
   ]
  },
  {
   "cell_type": "code",
   "execution_count": null,
   "metadata": {},
   "outputs": [],
   "source": [
    "def scrape_player_data(st_year, end_year, type):\n",
    "    player_data = []\n",
    "    for year in range(st_year, end_year):\n",
    "        url = f'https://sports.ndtv.com/ipl-{year}/auction/{type}'\n",
    "        response = requests.get(url)\n",
    "        soup = BeautifulSoup(response.text, 'html.parser')\n",
    "\n",
    "        teams = ['CSK', 'DC', 'MI',\n",
    "                'LSG', 'GT', 'KKR',\n",
    "                'PBKS', 'RR', 'RCB',\n",
    "                'SRH']\n",
    "\n",
    "        for team in teams:\n",
    "            table = soup.find('table', id=re.compile(team))\n",
    "            if table:\n",
    "                rows = table.find_all('tr')[1:]  # Skip header\n",
    "                for row in rows:\n",
    "                    cells = row.find_all('td')\n",
    "                    if len(cells) >= 3:\n",
    "                        player_name = player_name = cells[1].get_text(strip=True).replace(cells[2].get_text(strip=True), '').strip()\n",
    "                        role = cells[2].get_text(strip=True)\n",
    "                        price = cells[3].get_text(strip=True)\n",
    "                        spans = cells[1].find_all('span')\n",
    "                        Origin = 'Unknown'\n",
    "                        for span in spans:\n",
    "                            class_attr = span.get('class', [])\n",
    "                            if 'vj-sp_india-flag' in class_attr:\n",
    "                                Origin = 'Indian'\n",
    "                                break\n",
    "                            if 'vj-sp_airoplane'in class_attr:\n",
    "                                Origin = 'Overseas'\n",
    "                                break\n",
    "                        if type == 'retainedplayer':\n",
    "                            player_data.append({\n",
    "                            'Player': player_name,\n",
    "                            'Role': role,\n",
    "                            'Price': price,\n",
    "                            'Team': team,\n",
    "                            'Year': year,\n",
    "                            'Origin': Origin,\n",
    "                            \"Retained\": 'Yes'})\n",
    "                        else:\n",
    "                            player_data.append({\n",
    "                            'Player': player_name,\n",
    "                            'Role': role,\n",
    "                            'Price': price,\n",
    "                            'Team': team,\n",
    "                            'Year': year,\n",
    "                            'Origin': Origin,\n",
    "                        })\n",
    "    return pd.DataFrame(player_data)\n"
   ]
  },
  {
   "cell_type": "code",
   "execution_count": null,
   "metadata": {},
   "outputs": [],
   "source": [
    "retained_df = scrape_player_data(2022,2026,'retainedplayer')\n",
    "squad_df = scrape_player_data(2022,2026,'teamsquad')"
   ]
  },
  {
   "cell_type": "code",
   "execution_count": null,
   "metadata": {},
   "outputs": [],
   "source": [
    "final_df = pd.merge(\n",
    "        squad_df,\n",
    "        retained_df[['Player', 'Team', 'Year','Retained']],\n",
    "        on=['Player', 'Team', 'Year'],\n",
    "        how='left'\n",
    "    )\n",
    "\n",
    "final_df['Retained'] = final_df['Retained'].fillna('No')"
   ]
  },
  {
   "cell_type": "code",
   "execution_count": null,
   "metadata": {},
   "outputs": [],
   "source": [
    "final_df['Price'] = final_df['Price'].astype(float)"
   ]
  },
  {
   "cell_type": "code",
   "execution_count": null,
   "metadata": {},
   "outputs": [],
   "source": [
    "final_df.info()"
   ]
  },
  {
   "cell_type": "code",
   "execution_count": null,
   "metadata": {},
   "outputs": [],
   "source": [
    "final_df[(final_df['Year']==2024) & (final_df['Team']=='CSK') & (final_df['Origin']=='Overseas')]"
   ]
  },
  {
   "cell_type": "code",
   "execution_count": null,
   "metadata": {},
   "outputs": [],
   "source": [
    "final_df.to_csv('final.csv')"
   ]
  },
  {
   "cell_type": "code",
   "execution_count": null,
   "metadata": {},
   "outputs": [],
   "source": [
    "df = pd.read_csv('IPL2022.csv')"
   ]
  },
  {
   "cell_type": "code",
   "execution_count": null,
   "metadata": {},
   "outputs": [],
   "source": [
    "copy = final_df[final_df['Year']==2022].copy()"
   ]
  },
  {
   "cell_type": "code",
   "execution_count": null,
   "metadata": {},
   "outputs": [],
   "source": [
    "copy"
   ]
  },
  {
   "cell_type": "code",
   "execution_count": null,
   "metadata": {},
   "outputs": [],
   "source": [
    "df = df.rename(columns={'Name':'Player'})"
   ]
  },
  {
   "cell_type": "code",
   "execution_count": null,
   "metadata": {},
   "outputs": [],
   "source": [
    "final22_df = pd.merge(\n",
    "        copy,\n",
    "        df[['Player', 'Year','C/U/A']],\n",
    "        on=['Player', 'Year'],\n",
    "        how='left'\n",
    "    )"
   ]
  },
  {
   "cell_type": "code",
   "execution_count": null,
   "metadata": {},
   "outputs": [],
   "source": [
    "final22_df.info()"
   ]
  },
  {
   "cell_type": "code",
   "execution_count": null,
   "metadata": {},
   "outputs": [],
   "source": [
    "copy23 = final_df[final_df['Year']==2023].copy()"
   ]
  },
  {
   "cell_type": "code",
   "execution_count": null,
   "metadata": {},
   "outputs": [],
   "source": [
    "copy23['Player'].to_csv('23Players.csv')"
   ]
  },
  {
   "cell_type": "code",
   "execution_count": null,
   "metadata": {},
   "outputs": [],
   "source": [
    "copy23 = copy23[copy23['Player'] != 'Kuldip Yadav']"
   ]
  },
  {
   "cell_type": "code",
   "execution_count": null,
   "metadata": {},
   "outputs": [],
   "source": [
    "copy23.reset_index(drop=True, inplace=True)"
   ]
  },
  {
   "cell_type": "code",
   "execution_count": null,
   "metadata": {},
   "outputs": [],
   "source": [
    "df23 = pd.read_csv('2023players.csv')"
   ]
  },
  {
   "cell_type": "code",
   "execution_count": null,
   "metadata": {},
   "outputs": [],
   "source": [
    "final23_df = pd.merge(\n",
    "        copy23,\n",
    "        df23[['Player', 'Year','C/U/A']],\n",
    "        on=['Player', 'Year'],\n",
    "        how='left'\n",
    "    )"
   ]
  },
  {
   "cell_type": "code",
   "execution_count": null,
   "metadata": {},
   "outputs": [],
   "source": [
    "na_rows = final23_df[final23_df['C/U/A'].isna()]"
   ]
  },
  {
   "cell_type": "code",
   "execution_count": null,
   "metadata": {},
   "outputs": [],
   "source": [
    "na_rows"
   ]
  },
  {
   "cell_type": "code",
   "execution_count": null,
   "metadata": {},
   "outputs": [],
   "source": [
    "final23_df=final23_df.fillna('Capped')"
   ]
  },
  {
   "cell_type": "code",
   "execution_count": null,
   "metadata": {},
   "outputs": [],
   "source": [
    "final23_df.info()"
   ]
  },
  {
   "cell_type": "code",
   "execution_count": null,
   "metadata": {},
   "outputs": [],
   "source": [
    "copy24 = final_df[final_df['Year']==2024].copy()"
   ]
  },
  {
   "cell_type": "code",
   "execution_count": null,
   "metadata": {},
   "outputs": [],
   "source": [
    "copy24['Player'].to_csv('24Players.csv')"
   ]
  },
  {
   "cell_type": "code",
   "execution_count": null,
   "metadata": {},
   "outputs": [],
   "source": [
    "df24 = pd.read_csv('2024Players.csv')"
   ]
  },
  {
   "cell_type": "code",
   "execution_count": null,
   "metadata": {},
   "outputs": [],
   "source": [
    "final24_df = pd.merge(\n",
    "        copy24,\n",
    "        df24[['Player', 'Year','C/U/A']],\n",
    "        on=['Player', 'Year'],\n",
    "        how='left'\n",
    "    )"
   ]
  },
  {
   "cell_type": "code",
   "execution_count": null,
   "metadata": {},
   "outputs": [],
   "source": [
    "final24_df.info()"
   ]
  },
  {
   "cell_type": "code",
   "execution_count": null,
   "metadata": {},
   "outputs": [],
   "source": [
    "final24_df.loc[(final24_df['Player'] == 'Amit Mishra') & (final24_df['C/U/A'].isna()), 'C/U/A'] = 'Capped'"
   ]
  },
  {
   "cell_type": "code",
   "execution_count": null,
   "metadata": {},
   "outputs": [],
   "source": [
    "final24_df = final24_df.fillna('Uncapped')"
   ]
  },
  {
   "cell_type": "code",
   "execution_count": null,
   "metadata": {},
   "outputs": [],
   "source": [
    "copy25 = final_df[final_df['Year']==2025]"
   ]
  },
  {
   "cell_type": "code",
   "execution_count": null,
   "metadata": {},
   "outputs": [],
   "source": [
    "copy25['Player'].to_csv('25players.csv')"
   ]
  },
  {
   "cell_type": "code",
   "execution_count": null,
   "metadata": {},
   "outputs": [],
   "source": [
    "df25 = pd.read_csv('2025Players.csv')"
   ]
  },
  {
   "cell_type": "code",
   "execution_count": null,
   "metadata": {},
   "outputs": [],
   "source": [
    "final25_df = pd.merge(\n",
    "        copy25,\n",
    "        df25[['Player', 'Year','C/U/A']],\n",
    "        on=['Player', 'Year'],\n",
    "        how='left'\n",
    "    )"
   ]
  },
  {
   "cell_type": "code",
   "execution_count": null,
   "metadata": {},
   "outputs": [],
   "source": [
    "final25_df"
   ]
  },
  {
   "cell_type": "code",
   "execution_count": null,
   "metadata": {},
   "outputs": [],
   "source": [
    "final25_df.info()"
   ]
  },
  {
   "cell_type": "code",
   "execution_count": null,
   "metadata": {},
   "outputs": [],
   "source": [
    "super_final_auction = pd.concat([final22_df,final23_df,final24_df,final25_df])"
   ]
  },
  {
   "cell_type": "code",
   "execution_count": null,
   "metadata": {},
   "outputs": [],
   "source": [
    "super_final_auction.to_csv('IPLAuctionData.csv')"
   ]
  },
  {
   "cell_type": "code",
   "execution_count": null,
   "metadata": {},
   "outputs": [],
   "source": []
  }
 ],
 "metadata": {
  "kernelspec": {
   "display_name": "Python 3",
   "language": "python",
   "name": "python3"
  },
  "language_info": {
   "codemirror_mode": {
    "name": "ipython",
    "version": 3
   },
   "file_extension": ".py",
   "mimetype": "text/x-python",
   "name": "python",
   "nbconvert_exporter": "python",
   "pygments_lexer": "ipython3",
   "version": "3.11.9"
  }
 },
 "nbformat": 4,
 "nbformat_minor": 2
}
