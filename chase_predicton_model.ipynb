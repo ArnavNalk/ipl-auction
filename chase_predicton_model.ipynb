{
 "cells": [
  {
   "cell_type": "code",
   "execution_count": null,
   "metadata": {},
   "outputs": [],
   "source": [
    "import pandas as pd\n",
    "from sklearn.model_selection import train_test_split, GridSearchCV\n",
    "from sklearn.linear_model import LogisticRegression\n",
    "from sklearn.ensemble import RandomForestClassifier\n",
    "from xgboost import XGBClassifier\n",
    "from sklearn.svm import SVC, LinearSVC\n",
    "from sklearn.metrics import accuracy_score, recall_score, precision_score, f1_score\n",
    "from sklearn.preprocessing import OneHotEncoder, StandardScaler\n",
    "from sklearn.compose import ColumnTransformer\n",
    "from sklearn.pipeline import Pipeline\n",
    "import matplotlib.pyplot as plt\n",
    "import joblib\n",
    "from sklearn.calibration import CalibrationDisplay"
   ]
  },
  {
   "cell_type": "code",
   "execution_count": null,
   "metadata": {},
   "outputs": [],
   "source": [
    "match_df = pd.read_csv('data_files/match_details.csv',index_col=0)\n",
    "ball_df = pd.read_csv('data_files/ball_by_ball.csv',index_col=0)"
   ]
  },
  {
   "cell_type": "code",
   "execution_count": null,
   "metadata": {},
   "outputs": [],
   "source": [
    "target_columns = match_df[['match_id','team_1_score','venue','winner']].copy()\n",
    "target_columns['target_score'] = target_columns['team_1_score']+1"
   ]
  },
  {
   "cell_type": "code",
   "execution_count": null,
   "metadata": {},
   "outputs": [],
   "source": [
    "ball_df = ball_df[ball_df['inning']==2]\n",
    "ball_df = ball_df.merge(target_columns,on='match_id')"
   ]
  },
  {
   "cell_type": "code",
   "execution_count": null,
   "metadata": {},
   "outputs": [],
   "source": [
    "ball_df['venue'] = ball_df['venue'].replace('Maharaja Yadavindra Singh International Cricket Stadium, New Chandigarh','Maharaja Yadavindra Singh International Cricket Stadium, Mullanpur')"
   ]
  },
  {
   "cell_type": "code",
   "execution_count": null,
   "metadata": {},
   "outputs": [],
   "source": [
    "ball_df['current_score'] = ball_df.groupby('match_id')['total_runs'].cumsum()\n",
    "ball_df['runs_required'] = ball_df['target_score'] - ball_df['current_score']\n",
    "ball_df['runs_required'] = ball_df['runs_required'].clip(lower=0)\n",
    "ball_df['balls_bowled'] = (~ball_df['extras_type'].str.contains('wides|noballs', na=False)).groupby(ball_df['match_id']).cumsum()\n",
    "ball_df['balls_remaining'] = 120 - ball_df['balls_bowled']\n",
    "ball_df['wickets_taken'] = ball_df.groupby('match_id')['is_wicket'].cumsum()\n",
    "ball_df['wickets_remaining'] = 10 - ball_df['wickets_taken']\n",
    "ball_df['crr'] = (ball_df['current_score'] * 6) / ball_df['balls_bowled']\n",
    "ball_df['rrr'] = (ball_df['runs_required'] * 6) / ball_df['balls_remaining']\n",
    "ball_df['did_win'] = (ball_df['batting_team'] == ball_df['winner']).astype(int)"
   ]
  },
  {
   "cell_type": "code",
   "execution_count": null,
   "metadata": {},
   "outputs": [],
   "source": [
    "final_df = ball_df[[\n",
    "    'match_id',\n",
    "    'runs_required',\n",
    "    'balls_remaining',\n",
    "    'wickets_remaining',\n",
    "    'target_score',\n",
    "    'crr',\n",
    "    'rrr',\n",
    "    'venue',\n",
    "    'did_win'\n",
    "]].copy()"
   ]
  },
  {
   "cell_type": "code",
   "execution_count": null,
   "metadata": {},
   "outputs": [],
   "source": [
    "final_df"
   ]
  },
  {
   "cell_type": "code",
   "execution_count": null,
   "metadata": {},
   "outputs": [],
   "source": [
    "final_df.dropna(inplace=True)\n",
    "final_df = final_df[~final_df.isin([float('inf'), float('-inf')]).any(axis=1)]\n",
    "final_df = final_df[final_df['balls_remaining'] != 0]"
   ]
  },
  {
   "cell_type": "code",
   "execution_count": null,
   "metadata": {},
   "outputs": [],
   "source": [
    "X = final_df.drop(['did_win','match_id'], axis=1)\n",
    "y = final_df['did_win']\n",
    "X_train, X_test, y_train, y_test = train_test_split(X, y, test_size=0.2, random_state=42)"
   ]
  },
  {
   "cell_type": "code",
   "execution_count": null,
   "metadata": {},
   "outputs": [],
   "source": [
    "preprocessor = ColumnTransformer(\n",
    "    transformers=[('onehot',OneHotEncoder(sparse_output=False,handle_unknown='ignore'),['venue'])],\n",
    "    remainder='passthrough',\n",
    "    force_int_remainder_cols=False \n",
    ")"
   ]
  },
  {
   "cell_type": "code",
   "execution_count": null,
   "metadata": {},
   "outputs": [],
   "source": [
    "models ={\n",
    "    'Logistic Regression':LogisticRegression(max_iter=5000),\n",
    "    'SVM':SVC(probability=True),\n",
    "    'Random Forrest':RandomForestClassifier(n_estimators=100,random_state=42),\n",
    "    'XGBoost':XGBClassifier(n_estimators=100,random_state=42)\n",
    "}"
   ]
  },
  {
   "cell_type": "code",
   "execution_count": null,
   "metadata": {},
   "outputs": [],
   "source": [
    "results = {}\n",
    "for name,model in models.items():\n",
    "    model_pipeline = Pipeline(steps=[\n",
    "    ('preprocessor', preprocessor),\n",
    "    ('classifier', model)])\n",
    "    model_pipeline.fit(X_train,y_train)\n",
    "    y_pred_train = model_pipeline.predict(X_train)\n",
    "    y_pred = model_pipeline.predict(X_test)\n",
    "    y_pred_proba = model_pipeline.predict_proba(X_test)[:,1]\n",
    "    train_acc = accuracy_score(y_pred_train,y_train)\n",
    "    test_acc = accuracy_score(y_pred,y_test)\n",
    "    pres = precision_score(y_test,y_pred)\n",
    "    rec = recall_score(y_test,y_pred)\n",
    "    f1 = f1_score(y_test,y_pred)\n",
    "    results[name] = {'Training Accuracy':train_acc,'Test Accuracy':test_acc,'Precision':pres,'Recall':rec,'F1 score':f1}\n",
    "results_df = pd.DataFrame(results).T\n",
    "print('Results for Random Split Data')\n",
    "results_df"
   ]
  },
  {
   "cell_type": "code",
   "execution_count": null,
   "metadata": {},
   "outputs": [],
   "source": [
    "time_train_df = final_df[final_df['match_id']<=1473472]\n",
    "time_test_df = final_df[final_df['match_id']>1473472]\n",
    "X_train_time = time_train_df.drop(['did_win','match_id'], axis=1)\n",
    "y_train_time = time_train_df['did_win']\n",
    "X_test_time = time_test_df.drop(['did_win','match_id'], axis=1)\n",
    "y_test_time = time_test_df['did_win']"
   ]
  },
  {
   "cell_type": "code",
   "execution_count": null,
   "metadata": {},
   "outputs": [],
   "source": [
    "results2 = {}\n",
    "for name,model in models.items():\n",
    "    model_pipeline = Pipeline(steps=[\n",
    "    ('preprocessor', preprocessor),\n",
    "    ('classifier', model)])\n",
    "    model_pipeline.fit(X_train_time,y_train_time)\n",
    "    y_pred_train = model_pipeline.predict(X_train_time)\n",
    "    y_pred = model_pipeline.predict(X_test_time)\n",
    "    y_pred_proba = model_pipeline.predict_proba(X_test_time)[:,1]\n",
    "    train_acc = accuracy_score(y_pred_train,y_train_time)\n",
    "    test_acc = accuracy_score(y_pred,y_test_time)\n",
    "    pres = precision_score(y_test_time,y_pred)\n",
    "    rec = recall_score(y_test_time,y_pred)\n",
    "    f1 = f1_score(y_test_time,y_pred)\n",
    "    results2[name] = {'Training Accuracy':train_acc,'Test Accuracy':test_acc,'Precision':pres,'Recall':rec,'F1 score':f1}\n",
    "results_df2 = pd.DataFrame(results2).T\n",
    "print('Results for Time Split Data')\n",
    "results_df2"
   ]
  },
  {
   "cell_type": "code",
   "execution_count": null,
   "metadata": {},
   "outputs": [],
   "source": [
    "rf_pipeline = Pipeline(steps=[('preprocessor', preprocessor),\n",
    "                              ('classifier', RandomForestClassifier(random_state=42))])\n",
    "param_grid_rf = {\n",
    "    'classifier__n_estimators': [100, 200],\n",
    "    'classifier__max_depth': [10, 15],\n",
    "    'classifier__min_samples_leaf': [5, 10]\n",
    "}\n",
    "grid_search_rf = GridSearchCV(estimator=rf_pipeline, param_grid=param_grid_rf, \n",
    "                              cv=3, n_jobs=-1, verbose=2, scoring='accuracy')\n",
    "grid_search_rf.fit(X_train, y_train)\n",
    "print(f'Best Random Forrest Parameters: {grid_search_rf.best_params_}')\n",
    "print(f'Best Random Forrest Model Accuracy: {grid_search_rf.best_score_}')"
   ]
  },
  {
   "cell_type": "code",
   "execution_count": null,
   "metadata": {},
   "outputs": [],
   "source": [
    "svm_rbf_pipeline = Pipeline(steps=[\n",
    "    ('preprocessor', preprocessor),\n",
    "    ('classifier', SVC(probability=True, random_state=42, kernel='rbf'))\n",
    "])\n",
    "param_grid_rbf = {\n",
    "    'classifier__C': [0.1, 1, 10],\n",
    "    'classifier__gamma': ['scale', 'auto']\n",
    "}\n",
    "grid_search_rbf = GridSearchCV(svm_rbf_pipeline, param_grid_rbf, cv=3, scoring='accuracy', verbose=1, n_jobs=-1)\n",
    "grid_search_rbf.fit(X_train_time, y_train_time)\n",
    "print(f\"Best RBF Score: {grid_search_rbf.best_score_:.4f}\")\n",
    "print(f\"Best RBF Params: {grid_search_rbf.best_params_}\")\n",
    "svm_linear_pipeline = Pipeline(steps=[\n",
    "    ('preprocessor', preprocessor),\n",
    "    ('classifier', LinearSVC(random_state=42, dual=False))\n",
    "])\n",
    "param_grid_linear = {\n",
    "    'classifier__C': [0.1, 1, 10]\n",
    "}\n",
    "grid_search_linear = GridSearchCV(svm_linear_pipeline, param_grid_linear, cv=3, scoring='accuracy', verbose=1)\n",
    "grid_search_linear.fit(X_train_time, y_train_time)\n",
    "print(f\"Best Linear Score: {grid_search_linear.best_score_}\")\n",
    "print(f\"Best Linear Params: {grid_search_linear.best_params_}\")"
   ]
  },
  {
   "cell_type": "code",
   "execution_count": null,
   "metadata": {},
   "outputs": [],
   "source": [
    "best_random_split_model = grid_search_rf.best_estimator_\n",
    "best_random_split_model.fit(X_train,y_train)\n",
    "y_pred_rf = best_random_split_model.predict(X_test)\n",
    "print(f'Best Accuracy for Random Split Data: {accuracy_score(y_pred_rf,y_test)}')"
   ]
  },
  {
   "cell_type": "code",
   "execution_count": null,
   "metadata": {},
   "outputs": [],
   "source": [
    "best_time_split_model = Pipeline(steps=[\n",
    "    ('preprocessor', preprocessor),\n",
    "    ('classifier', SVC(probability=True, random_state=42, kernel='rbf'))\n",
    "])\n",
    "best_time_split_model.fit(X_train_time,y_train_time)\n",
    "y_pred_svm = best_time_split_model.predict(X_test_time)\n",
    "print(f'Best Accuracy for Time Split Data: {accuracy_score(y_pred_svm,y_test_time)}')"
   ]
  },
  {
   "cell_type": "code",
   "execution_count": null,
   "metadata": {},
   "outputs": [],
   "source": [
    "probs_time = best_time_split_model.predict_proba(X_test_time)[:, 1]\n",
    "probs_random = best_random_split_model.predict_proba(X_test_time)[:, 1]\n",
    "plt.figure(figsize=(7,6))\n",
    "CalibrationDisplay.from_predictions(y_test_time, probs_time, n_bins=10, name=\"Time-Split Model\")\n",
    "CalibrationDisplay.from_predictions(y_test_time, probs_random, n_bins=10, name=\"Random-Split Model\")\n",
    "plt.plot([0, 1], [0, 1], \"k--\", label=\"Perfectly Calibrated\")\n",
    "plt.legend()\n",
    "plt.title(\"Probability Calibration Curve\")\n",
    "plt.show()"
   ]
  },
  {
   "cell_type": "code",
   "execution_count": null,
   "metadata": {},
   "outputs": [],
   "source": [
    "joblib.dump(best_time_split_model,'models/best_chase_prediction_model.pkl')"
   ]
  },
  {
   "cell_type": "code",
   "execution_count": null,
   "metadata": {},
   "outputs": [],
   "source": []
  }
 ],
 "metadata": {
  "kernelspec": {
   "display_name": "Python 3",
   "language": "python",
   "name": "python3"
  },
  "language_info": {
   "codemirror_mode": {
    "name": "ipython",
    "version": 3
   },
   "file_extension": ".py",
   "mimetype": "text/x-python",
   "name": "python",
   "nbconvert_exporter": "python",
   "pygments_lexer": "ipython3",
   "version": "3.11.9"
  }
 },
 "nbformat": 4,
 "nbformat_minor": 2
}
